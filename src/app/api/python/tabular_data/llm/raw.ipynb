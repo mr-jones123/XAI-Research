{
 "cells": [
  {
   "cell_type": "code",
   "execution_count": null,
   "metadata": {},
   "outputs": [],
   "source": [
    "import lime\n",
    "import lime.lime_text\n",
    "from transformers import pipeline\n",
    "\n",
    "# Load a text generation model (GPT-2)\n",
    "generator = pipeline(\"text-generation\", model=\"gpt2\")\n",
    "\n",
    "# Define the input prompt\n",
    "prompt = \"Why is the ocean salty?\"\n",
    "\n",
    "# Generate an output from the LLM\n",
    "original_response = generator(prompt, max_length=50, do_sample=False)[0]['generated_text']\n",
    "\n",
    "# Create a LIME Text Explainer\n",
    "explainer = lime.lime_text.LimeTextExplainer()\n",
    "\n",
    "# Define a function that takes modified prompts and returns similarity scores\n",
    "def predict_proba(texts):\n",
    "    outputs = [generator(text, max_length=50, do_sample=False)[0]['generated_text'] for text in texts]\n",
    "    \n",
    "    # Calculate similarity: If output is similar to the original response, return 1, else 0\n",
    "    return [[1 if output == original_response else 0] for output in outputs]\n",
    "\n",
    "# Explain the LLM's response based on perturbations of the prompt\n",
    "exp = explainer.explain_instance(prompt, predict_proba, num_features=5)\n",
    "\n",
    "# Show explanation\n",
    "exp.show_in_notebook()\n"
   ]
  }
 ],
 "metadata": {
  "kernelspec": {
   "display_name": "Python 3",
   "language": "python",
   "name": "python3"
  },
  "language_info": {
   "name": "python",
   "version": "3.13.0"
  }
 },
 "nbformat": 4,
 "nbformat_minor": 2
}
